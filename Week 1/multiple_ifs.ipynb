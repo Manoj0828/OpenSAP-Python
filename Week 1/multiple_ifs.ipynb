{
 "cells": [
  {
   "cell_type": "code",
   "execution_count": 7,
   "metadata": {},
   "outputs": [
    {
     "name": "stdout",
     "output_type": "stream",
     "text": [
      "hot\n"
     ]
    }
   ],
   "source": [
    "temperature = int(input(\"How many degrees (celsius) is it? \"))\n",
    "if temperature > 30:\n",
    "    print(\"hot\")\n",
    "elif temperature > 20:\n",
    "    print(\"warm\")\n",
    "else:\n",
    "    print(\"cold\")"
   ]
  },
  {
   "cell_type": "code",
   "execution_count": 11,
   "metadata": {},
   "outputs": [
    {
     "name": "stdout",
     "output_type": "stream",
     "text": [
      "Money is issued \n"
     ]
    }
   ],
   "source": [
    "pin = int(input(\"Enter your PIN \"))\n",
    "secret_pin = 1234\n",
    "\n",
    "if pin == secret_pin:\n",
    "    account_balance = 10000\n",
    "    withdraw = int(input(\"Enter the money to withdraw\"))\n",
    "    if withdraw <= account_balance:\n",
    "        print(\"Money is issued \")\n",
    "    else:\n",
    "        (\"Insuffiant amount\")\n",
    "else:\n",
    "    print(\"ERROR: Incorrect PIN\")"
   ]
  },
  {
   "cell_type": "code",
   "execution_count": null,
   "metadata": {},
   "outputs": [],
   "source": []
  }
 ],
 "metadata": {
  "interpreter": {
   "hash": "70413a21d567e4aa0e74a562a22b8268ef992bac9b7ed1aefca5893fc26ee806"
  },
  "kernelspec": {
   "display_name": "Python 3.10.4 64-bit",
   "language": "python",
   "name": "python3"
  },
  "language_info": {
   "codemirror_mode": {
    "name": "ipython",
    "version": 3
   },
   "file_extension": ".py",
   "mimetype": "text/x-python",
   "name": "python",
   "nbconvert_exporter": "python",
   "pygments_lexer": "ipython3",
   "version": "3.10.4"
  },
  "orig_nbformat": 4
 },
 "nbformat": 4,
 "nbformat_minor": 2
}
