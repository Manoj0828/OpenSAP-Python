{
 "cells": [
  {
   "cell_type": "code",
   "execution_count": 11,
   "metadata": {},
   "outputs": [
    {
     "name": "stdout",
     "output_type": "stream",
     "text": [
      "sorry, that was not a number\n"
     ]
    }
   ],
   "source": [
    "number = input(\"Please enter a number\")\n",
    "\n",
    "if number.isdigit():\n",
    "    number = int(number)\n",
    "    print(\"very nice\", number, \"is my favorite number.\")\n",
    "else:\n",
    "    print(\"sorry, that was not a number\")\n"
   ]
  },
  {
   "cell_type": "code",
   "execution_count": 21,
   "metadata": {},
   "outputs": [
    {
     "name": "stdout",
     "output_type": "stream",
     "text": [
      "It is cold\n"
     ]
    }
   ],
   "source": [
    "temperature = int(input(\"Please insert the current temperature\"))\n",
    "rain = True\n",
    "wind = True\n",
    "if temperature > 20:\n",
    "    if (rain == True) and (wind == True):\n",
    "        print(\"It's warm, it rains and it's windy!!\")\n",
    "    if (rain == True) and (wind == False):\n",
    "        print(\"It's warm, raining and, no wind at all!!\")\n",
    "    if (rain == False) and (wind == True):\n",
    "        print(\"warm, dry and windy: good weather for sailing\")\n",
    "    if (rain == False) and (wind == False):\n",
    "        print(\"warm, dry, windless: just lie in the sun\")\n",
    "else:\n",
    "    print(\"It is cold\")\n",
    "\n"
   ]
  },
  {
   "cell_type": "code",
   "execution_count": 37,
   "metadata": {},
   "outputs": [
    {
     "name": "stdout",
     "output_type": "stream",
     "text": [
      "The year 1900 is no leap year\n"
     ]
    }
   ],
   "source": [
    "year = input(\"Enter a year: \")\n",
    "if year.isdigit():\n",
    "   \n",
    "    year = int(year)\n",
    "    \n",
    "    if (year % 4 == 0) and ((year % 100 != 0) or (year % 400 == 0)):\n",
    "        print(\"The year\", year, \"is a leap year\")\n",
    "    else:\n",
    "        print(\"The year\", year, \"is no leap year\")\n",
    "        \n",
    "else:\n",
    "    print(\"Sorry, You did not enter a year\")"
   ]
  },
  {
   "cell_type": "code",
   "execution_count": 59,
   "metadata": {},
   "outputs": [
    {
     "name": "stdout",
     "output_type": "stream",
     "text": [
      "Angles smaller than 0 are not valid.\n"
     ]
    }
   ],
   "source": [
    "first_angle = int(input(\"Please enter the first angle: \"))\n",
    "second_angle = int(input(\"Please enter the second angle: \"))\n",
    "third_angle = int(input(\"Pleas enter the third trianlge: \"))\n",
    "sum = (first_angle+second_angle+third_angle)\n",
    "\n",
    "if sum == 180:\n",
    "    if (first_angle <= 0) or (second_angle <= 0) or (third_angle <= 0):\n",
    "        print(\"Angles smaller than 0 are not valid.\")\n",
    "        if (first_angle == 60) and (second_angle == 90) and (third_angle == 30):\n",
    "            print(\"The triangle is a right triangle.\")\n",
    "        \n",
    "else:\n",
    "    print(\"The entered values are not valid.\")\n"
   ]
  },
  {
   "cell_type": "code",
   "execution_count": null,
   "metadata": {},
   "outputs": [],
   "source": []
  },
  {
   "cell_type": "code",
   "execution_count": null,
   "metadata": {},
   "outputs": [],
   "source": []
  }
 ],
 "metadata": {
  "interpreter": {
   "hash": "70413a21d567e4aa0e74a562a22b8268ef992bac9b7ed1aefca5893fc26ee806"
  },
  "kernelspec": {
   "display_name": "Python 3.10.4 64-bit",
   "language": "python",
   "name": "python3"
  },
  "language_info": {
   "codemirror_mode": {
    "name": "ipython",
    "version": 3
   },
   "file_extension": ".py",
   "mimetype": "text/x-python",
   "name": "python",
   "nbconvert_exporter": "python",
   "pygments_lexer": "ipython3",
   "version": "3.10.4"
  },
  "orig_nbformat": 4
 },
 "nbformat": 4,
 "nbformat_minor": 2
}
