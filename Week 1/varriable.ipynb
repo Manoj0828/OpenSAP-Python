{
 "cells": [
  {
   "cell_type": "code",
   "execution_count": 22,
   "metadata": {},
   "outputs": [
    {
     "data": {
      "text/plain": [
       "'Manoj Narayana Swamy'"
      ]
     },
     "execution_count": 22,
     "metadata": {},
     "output_type": "execute_result"
    }
   ],
   "source": [
    "name = \"Manoj\"\n",
    "last_name = \"Narayana Swamy\"\n",
    "self = name + \" \" + last_name\n",
    "self"
   ]
  }
 ],
 "metadata": {
  "interpreter": {
   "hash": "70413a21d567e4aa0e74a562a22b8268ef992bac9b7ed1aefca5893fc26ee806"
  },
  "kernelspec": {
   "display_name": "Python 3.10.4 64-bit",
   "language": "python",
   "name": "python3"
  },
  "language_info": {
   "codemirror_mode": {
    "name": "ipython",
    "version": 3
   },
   "file_extension": ".py",
   "mimetype": "text/x-python",
   "name": "python",
   "nbconvert_exporter": "python",
   "pygments_lexer": "ipython3",
   "version": "3.10.4"
  },
  "orig_nbformat": 4
 },
 "nbformat": 4,
 "nbformat_minor": 2
}
