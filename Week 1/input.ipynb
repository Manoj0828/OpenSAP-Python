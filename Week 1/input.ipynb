{
 "cells": [
  {
   "cell_type": "code",
   "execution_count": 19,
   "metadata": {},
   "outputs": [
    {
     "name": "stdout",
     "output_type": "stream",
     "text": [
      "Odd\n"
     ]
    }
   ],
   "source": [
    "i = int(input(\"Enter any number: \"))\n",
    "\n",
    "if i % 2 == 0:\n",
    "    print(\"Even\")\n",
    "else:\n",
    "    print(\"Odd\") \n",
    "\n",
    "\n",
    "\n"
   ]
  },
  {
   "cell_type": "code",
   "execution_count": null,
   "metadata": {},
   "outputs": [],
   "source": [
    "num1 = int(input(\"enter a number: \"))\n",
    "num2 = int(input(\"enter second number : \"))\n",
    "\n",
    "sum = num1 + num2\n",
    "product = num1*num2\n",
    "print(\"Sum is :\", sum, \"product is: \", product)\n"
   ]
  },
  {
   "cell_type": "code",
   "execution_count": 20,
   "metadata": {},
   "outputs": [
    {
     "name": "stdout",
     "output_type": "stream",
     "text": [
      "Manoj wants to travel from bangalore to goa by flight\n"
     ]
    }
   ],
   "source": [
    "name = input(\"Enter your name: \")\n",
    "start_city = input(\"Enter your starting city name: \")\n",
    "destination_city = input(\"Enter your destination city: \")\n",
    "transport = input(\"Enter your preferred transportaion : \")\n",
    "\n",
    "print(name, \"wants to travel from\", start_city, \"to\", destination_city, \"by\", transport )"
   ]
  }
 ],
 "metadata": {
  "interpreter": {
   "hash": "70413a21d567e4aa0e74a562a22b8268ef992bac9b7ed1aefca5893fc26ee806"
  },
  "kernelspec": {
   "display_name": "Python 3.10.4 64-bit",
   "language": "python",
   "name": "python3"
  },
  "language_info": {
   "codemirror_mode": {
    "name": "ipython",
    "version": 3
   },
   "file_extension": ".py",
   "mimetype": "text/x-python",
   "name": "python",
   "nbconvert_exporter": "python",
   "pygments_lexer": "ipython3",
   "version": "3.10.4"
  },
  "orig_nbformat": 4
 },
 "nbformat": 4,
 "nbformat_minor": 2
}
