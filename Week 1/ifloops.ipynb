{
 "cells": [
  {
   "cell_type": "code",
   "execution_count": 44,
   "metadata": {},
   "outputs": [
    {
     "name": "stdout",
     "output_type": "stream",
     "text": [
      "Entered numbre is less than or equal to 100!\n",
      "Printing this because it is inside If else block \n",
      "\n",
      "Done!\n"
     ]
    }
   ],
   "source": [
    "number = int(input(\"Enter any number: \"))\n",
    "if number > 100:\n",
    "    print(\"Entered numbre is greater than 100\")\n",
    "else:\n",
    "    print(\"Entered numbre is less than or equal to 100!\")\n",
    "    print(\"Printing this because it is inside If else block \\n\") \n",
    "\n",
    "print(\"Done!\")"
   ]
  },
  {
   "cell_type": "code",
   "execution_count": 46,
   "metadata": {},
   "outputs": [
    {
     "name": "stdout",
     "output_type": "stream",
     "text": [
      "Sorry, Hogwarts is full\n"
     ]
    }
   ],
   "source": [
    "name = input(\"Enter your name: \")\n",
    "if (name == \"Harry\") or (name == \"Harry Potter\"):\n",
    "    print(\"Welcome to Gryffindor, Mr.Potter!\")\n",
    "else:\n",
    "    print(\"Sorry, Hogwarts is full\")"
   ]
  },
  {
   "cell_type": "code",
   "execution_count": 63,
   "metadata": {},
   "outputs": [
    {
     "name": "stdout",
     "output_type": "stream",
     "text": [
      "50.0\n"
     ]
    }
   ],
   "source": [
    "a = 100\n",
    "if a % 2 == 0:\n",
    "    a = a / 2\n",
    "    print(a)\n",
    "else:\n",
    "    a = (a + 1)/2\n",
    "    print(a)\n"
   ]
  },
  {
   "cell_type": "code",
   "execution_count": 74,
   "metadata": {},
   "outputs": [
    {
     "name": "stdout",
     "output_type": "stream",
     "text": [
      "The largest number is:  45\n"
     ]
    }
   ],
   "source": [
    "num1 = int(input(\"Please enter the first number: \"))\n",
    "num2 = int(input(\"Pnter enter the second number: \"))\n",
    "num3 = int(input(\"Pnter enter the third number: \"))\n",
    "\n",
    "if (num1 > num2) and (num1 > num3):\n",
    "    largest = num1\n",
    "elif (num2 > num1) and (num2 > num3):\n",
    "    largest = num2\n",
    "else:\n",
    "    largest = num3\n",
    "print(\"The largest number is\", largest)"
   ]
  },
  {
   "cell_type": "code",
   "execution_count": null,
   "metadata": {},
   "outputs": [],
   "source": []
  },
  {
   "cell_type": "code",
   "execution_count": null,
   "metadata": {},
   "outputs": [],
   "source": []
  }
 ],
 "metadata": {
  "interpreter": {
   "hash": "70413a21d567e4aa0e74a562a22b8268ef992bac9b7ed1aefca5893fc26ee806"
  },
  "kernelspec": {
   "display_name": "Python 3.10.4 64-bit",
   "language": "python",
   "name": "python3"
  },
  "language_info": {
   "name": "python",
   "version": "3.10.4"
  },
  "orig_nbformat": 4
 },
 "nbformat": 4,
 "nbformat_minor": 2
}
