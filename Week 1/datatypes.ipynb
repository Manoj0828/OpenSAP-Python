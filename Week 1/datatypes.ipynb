{
 "cells": [
  {
   "cell_type": "code",
   "execution_count": 9,
   "metadata": {},
   "outputs": [
    {
     "name": "stdout",
     "output_type": "stream",
     "text": [
      "False\n",
      "True\n",
      "True and True True\n",
      "a and b False\n",
      "a or b True\n",
      "complex logical expression:  False\n"
     ]
    }
   ],
   "source": [
    "print(False and False)\n",
    "print(not False)\n",
    "\n",
    "a = False\n",
    "b = True\n",
    "\n",
    "print(\"True and True\", True and True)\n",
    "print(\"a and b\", a and b)\n",
    "print(\"a or b\", a or b)\n",
    "\n",
    "print(\"complex logical expression: \", a and (b or (True and False)))"
   ]
  },
  {
   "cell_type": "code",
   "execution_count": null,
   "metadata": {},
   "outputs": [],
   "source": []
  }
 ],
 "metadata": {
  "interpreter": {
   "hash": "70413a21d567e4aa0e74a562a22b8268ef992bac9b7ed1aefca5893fc26ee806"
  },
  "kernelspec": {
   "display_name": "Python 3.10.4 64-bit",
   "language": "python",
   "name": "python3"
  },
  "language_info": {
   "codemirror_mode": {
    "name": "ipython",
    "version": 3
   },
   "file_extension": ".py",
   "mimetype": "text/x-python",
   "name": "python",
   "nbconvert_exporter": "python",
   "pygments_lexer": "ipython3",
   "version": "3.10.4"
  },
  "orig_nbformat": 4
 },
 "nbformat": 4,
 "nbformat_minor": 2
}
