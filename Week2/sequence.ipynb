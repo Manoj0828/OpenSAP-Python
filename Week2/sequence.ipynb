{
 "cells": [
  {
   "cell_type": "code",
   "execution_count": 10,
   "metadata": {},
   "outputs": [
    {
     "ename": "SyntaxError",
     "evalue": "invalid syntax. Perhaps you forgot a comma? (3536503872.py, line 5)",
     "output_type": "error",
     "traceback": [
      "\u001b[1;36m  Input \u001b[1;32mIn [10]\u001b[1;36m\u001b[0m\n\u001b[1;33m    print(\"Length of a list\"len(list))\u001b[0m\n\u001b[1;37m          ^\u001b[0m\n\u001b[1;31mSyntaxError\u001b[0m\u001b[1;31m:\u001b[0m invalid syntax. Perhaps you forgot a comma?\n"
     ]
    }
   ],
   "source": [
    "list = [1,2,3,4,5,6]\n",
    "string = \"This is a string, right?\"\n",
    "range_100 = [0,100,2]\n",
    "\n",
    "print(\"Length of a list\", len(list))\n",
    "print(\"Length of the string\", len(string))\n",
    "print(\"Length of the range\", len(range_100))\n",
    "\n",
    "print(\"Number 4 in list?\", 4 in list)\n",
    "print(\"number 10 in list?\", 10 in list)\n",
    "\n",
    "print(\"string contains s?\", \"s\" in string)\n",
    "print(\"Range contains 27 in the range?\", 27 in range_100)\n",
    "\n",
    "print(\"Those str\" + \"ings were concatinated\")\n",
    "\n",
    "print(5 * range_100)\n",
    "\n",
    "print(min(list))\n",
    "print(max(list))"
   ]
  },
  {
   "cell_type": "code",
   "execution_count": null,
   "metadata": {},
   "outputs": [],
   "source": []
  }
 ],
 "metadata": {
  "interpreter": {
   "hash": "70413a21d567e4aa0e74a562a22b8268ef992bac9b7ed1aefca5893fc26ee806"
  },
  "kernelspec": {
   "display_name": "Python 3.10.4 64-bit",
   "language": "python",
   "name": "python3"
  },
  "language_info": {
   "codemirror_mode": {
    "name": "ipython",
    "version": 3
   },
   "file_extension": ".py",
   "mimetype": "text/x-python",
   "name": "python",
   "nbconvert_exporter": "python",
   "pygments_lexer": "ipython3",
   "version": "3.10.4"
  },
  "orig_nbformat": 4
 },
 "nbformat": 4,
 "nbformat_minor": 2
}
