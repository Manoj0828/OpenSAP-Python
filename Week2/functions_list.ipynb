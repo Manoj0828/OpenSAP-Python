{
 "cells": [
  {
   "cell_type": "code",
   "execution_count": 3,
   "metadata": {},
   "outputs": [
    {
     "name": "stdout",
     "output_type": "stream",
     "text": [
      "The fruit list contains 5 items\n",
      "Python Introduction consists of 19 charecters\n"
     ]
    }
   ],
   "source": [
    "fruit_list = [\"banana\", \"mango\", \"apple\", \"coconut\",\"pear\"]\n",
    "print(\"The fruit list contains\", len(fruit_list), \"items\")\n",
    "\n",
    "course_name = \"Python Introduction\"\n",
    "print(course_name, \"consists of\", len(course_name), \"charecters\")"
   ]
  },
  {
   "cell_type": "code",
   "execution_count": 6,
   "metadata": {},
   "outputs": [
    {
     "name": "stdout",
     "output_type": "stream",
     "text": [
      "The lowest price in the list is 9\n",
      "The highest price in the list is 15\n"
     ]
    }
   ],
   "source": [
    "price = [10,11,12,9,14,15]\n",
    "print(\"The lowest price in the list is\",min(price))\n",
    "print(\"The highest price in the list is\",max(price))"
   ]
  },
  {
   "cell_type": "code",
   "execution_count": 21,
   "metadata": {},
   "outputs": [
    {
     "name": "stdout",
     "output_type": "stream",
     "text": [
      "[1, 2, 3, 4]\n",
      "[1, 2, 3, 4]\n",
      "['P', 'a', 'g', 'g', 'i', 'm', 'm', 'n', 'o', 'r', 'r']\n"
     ]
    }
   ],
   "source": [
    "random_numbers = [4,2,3,1]\n",
    "random_numbers.sort()\n",
    "\n",
    "sorted_numbers = sorted(random_numbers) # gives a new list which can be assigend to a varriable\n",
    "\n",
    "print(random_numbers)\n",
    "print(sorted_numbers)\n",
    "print(sorted(\"Programming\"))\n",
    "\n"
   ]
  },
  {
   "cell_type": "code",
   "execution_count": 28,
   "metadata": {},
   "outputs": [
    {
     "name": "stdout",
     "output_type": "stream",
     "text": [
      "10 has been added [1, 2, 3, 4, 10]\n",
      "last numbre has been deleted [1, 2, 3, 4]\n"
     ]
    }
   ],
   "source": [
    "number = [1,2,3,4]\n",
    "number.append(10)\n",
    "\n",
    "print(\"10 has been added\", number)\n",
    "\n",
    "number = [1,2,3,4,10]\n",
    "number.pop()\n",
    "print(\"last numbre has been deleted\", number)"
   ]
  },
  {
   "cell_type": "code",
   "execution_count": 35,
   "metadata": {},
   "outputs": [
    {
     "name": "stdout",
     "output_type": "stream",
     "text": [
      "4 has been inserted in the index position 3 [1, 2, 3, 4, 5]\n",
      "Number 3 has been removed from the list [1, 2, 4, 5]\n"
     ]
    }
   ],
   "source": [
    "numbers = [1,2,3,5]\n",
    "\n",
    "numbers.insert(3,4)\n",
    "print(\"4 has been inserted in the index position 3\",numbers)\n",
    "\n",
    "numbers.remove(3)\n",
    "print(\"Number 3 has been removed from the list\", numbers)"
   ]
  },
  {
   "cell_type": "code",
   "execution_count": 37,
   "metadata": {},
   "outputs": [
    {
     "data": {
      "text/plain": [
       "[1, 2, 3, 1, 2, 3, 1, 2, 3]"
      ]
     },
     "execution_count": 37,
     "metadata": {},
     "output_type": "execute_result"
    }
   ],
   "source": []
  },
  {
   "cell_type": "code",
   "execution_count": null,
   "metadata": {},
   "outputs": [],
   "source": []
  }
 ],
 "metadata": {
  "interpreter": {
   "hash": "70413a21d567e4aa0e74a562a22b8268ef992bac9b7ed1aefca5893fc26ee806"
  },
  "kernelspec": {
   "display_name": "Python 3.10.4 64-bit",
   "language": "python",
   "name": "python3"
  },
  "language_info": {
   "codemirror_mode": {
    "name": "ipython",
    "version": 3
   },
   "file_extension": ".py",
   "mimetype": "text/x-python",
   "name": "python",
   "nbconvert_exporter": "python",
   "pygments_lexer": "ipython3",
   "version": "3.10.4"
  },
  "orig_nbformat": 4
 },
 "nbformat": 4,
 "nbformat_minor": 2
}
