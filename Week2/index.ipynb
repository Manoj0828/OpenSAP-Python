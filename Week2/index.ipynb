{
 "cells": [
  {
   "cell_type": "code",
   "execution_count": 5,
   "metadata": {},
   "outputs": [
    {
     "name": "stdout",
     "output_type": "stream",
     "text": [
      "prune\n",
      "apple\n",
      "coconut\n"
     ]
    }
   ],
   "source": [
    "fruit = [\"apple\", \"banana\", \"coconut\", \"pear\", \"prune\"]\n",
    "print(fruit[4])\n",
    "print(fruit[0])\n",
    "print(fruit[-3])"
   ]
  },
  {
   "cell_type": "code",
   "execution_count": 7,
   "metadata": {},
   "outputs": [
    {
     "name": "stdout",
     "output_type": "stream",
     "text": [
      "[2, 3, 4, 7, 11, 13, 17]\n",
      "[2, 3, 5, 7, 11, 13, 17]\n"
     ]
    }
   ],
   "source": [
    "some_prime_list = [2,3,4,7,11,13,17]\n",
    "print(some_prime_list)\n",
    "\n",
    "#change the value of 4 in the list\n",
    "some_prime_list[2] = 5\n",
    "print(some_prime_list)"
   ]
  },
  {
   "cell_type": "code",
   "execution_count": 15,
   "metadata": {},
   "outputs": [
    {
     "name": "stdout",
     "output_type": "stream",
     "text": [
      "['Manoj', 'Narayana', 'Swamy']\n",
      "bangalore\n"
     ]
    }
   ],
   "source": [
    "#list inside list\n",
    "records = [\n",
    "    [\"Manoj\", \"Narayana\", \"Swamy\"],\n",
    "    [\"krupanidhi\",\"bellandur\", \"bangalore\"]\n",
    "]\n",
    "print(records[0])\n",
    "print(records[1][2])"
   ]
  },
  {
   "cell_type": "code",
   "execution_count": 17,
   "metadata": {},
   "outputs": [
    {
     "name": "stdout",
     "output_type": "stream",
     "text": [
      "y\n",
      "o\n",
      "Happy Python Programming\n"
     ]
    }
   ],
   "source": [
    "course_name = \"Python Introduction\"\n",
    "print(course_name[1])\n",
    "print(course_name[-2])\n",
    "\n",
    "if \"Python\" in course_name:\n",
    "    print(\"Happy Python Programming\")"
   ]
  },
  {
   "cell_type": "code",
   "execution_count": 22,
   "metadata": {},
   "outputs": [
    {
     "name": "stdout",
     "output_type": "stream",
     "text": [
      "[[1, 2, 3], [4, 5, 6, 7]]\n"
     ]
    }
   ],
   "source": [
    "list1 = [1,2,3]\n",
    "list2 = [4,5,6,7]\n",
    "list3 = [list1, list2]\n",
    "print(list3)\n"
   ]
  },
  {
   "cell_type": "code",
   "execution_count": 53,
   "metadata": {},
   "outputs": [
    {
     "name": "stdout",
     "output_type": "stream",
     "text": [
      "Return of the Jedi\n"
     ]
    }
   ],
   "source": [
    "trilogy_num = int(input(\"Please enter a trilogy number:\"))\n",
    "film_num = int(input(\"Please enter a film number:\"))\n",
    "\n",
    "star_wars_movies = [  \n",
    "    [\"The Phantom Menace\", \"Attack of the Clones\", \"Revenge of the Sith\"],  \n",
    "    [\"A New Hope\", \"The Empire Strikes Back\", \"Return of the Jedi\"],   \n",
    "    [\"The Force Awakens\", \"The Last Jedi\", \"The Rise of Skywalker\"],\n",
    "]\n",
    "\n",
    "if (trilogy_num <= 3) and (film_num <= 3):\n",
    "    the_movie = star_wars_movies[trilogy_num -1][film_num -1]\n",
    "    print(the_movie)\n"
   ]
  },
  {
   "cell_type": "code",
   "execution_count": 71,
   "metadata": {},
   "outputs": [
    {
     "name": "stdout",
     "output_type": "stream",
     "text": [
      "The Rise of Skywalker\n"
     ]
    }
   ],
   "source": []
  },
  {
   "cell_type": "code",
   "execution_count": null,
   "metadata": {},
   "outputs": [],
   "source": []
  }
 ],
 "metadata": {
  "interpreter": {
   "hash": "70413a21d567e4aa0e74a562a22b8268ef992bac9b7ed1aefca5893fc26ee806"
  },
  "kernelspec": {
   "display_name": "Python 3.10.4 64-bit",
   "language": "python",
   "name": "python3"
  },
  "language_info": {
   "codemirror_mode": {
    "name": "ipython",
    "version": 3
   },
   "file_extension": ".py",
   "mimetype": "text/x-python",
   "name": "python",
   "nbconvert_exporter": "python",
   "pygments_lexer": "ipython3",
   "version": "3.10.4"
  },
  "orig_nbformat": 4
 },
 "nbformat": 4,
 "nbformat_minor": 2
}
