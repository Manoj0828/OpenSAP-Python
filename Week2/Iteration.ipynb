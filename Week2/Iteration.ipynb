{
 "cells": [
  {
   "cell_type": "code",
   "execution_count": 5,
   "metadata": {},
   "outputs": [
    {
     "name": "stdout",
     "output_type": "stream",
     "text": [
      "3\n",
      "4\n",
      "234\n",
      "-2\n",
      "abc\n",
      "True\n"
     ]
    }
   ],
   "source": [
    "list = [3,4,234,-2,\"abc\",True]\n",
    "for element in list:\n",
    "    print(element)\n"
   ]
  },
  {
   "cell_type": "code",
   "execution_count": 11,
   "metadata": {},
   "outputs": [
    {
     "name": "stdout",
     "output_type": "stream",
     "text": [
      "The minimum number is: 26\n"
     ]
    }
   ],
   "source": [
    "list = [\n",
    "    32,\n",
    "    222,\n",
    "    334,\n",
    "    444,\n",
    "    27,\n",
    "    26,\n",
    "    221,\n",
    "]\n",
    "\n",
    "current_minimum = list[0]\n",
    "for number in list:\n",
    "    if number < current_minimum:\n",
    "        current_minimum = number\n",
    "print(\"The minimum number is:\", current_minimum)"
   ]
  },
  {
   "cell_type": "code",
   "execution_count": 19,
   "metadata": {},
   "outputs": [
    {
     "name": "stdout",
     "output_type": "stream",
     "text": [
      "Ths s how t should look lke\n"
     ]
    }
   ],
   "source": [
    "sentence = input(\"What sentence should be output?\")\n",
    "unwanted_letter = input(\"which letter to be removed\")\n",
    "result = \"\"\n",
    "\n",
    "for letter in sentence:\n",
    "    if letter != unwanted_letter:\n",
    "        result += letter\n",
    "        \n",
    "print(result)\n"
   ]
  },
  {
   "cell_type": "code",
   "execution_count": 24,
   "metadata": {},
   "outputs": [
    {
     "name": "stdout",
     "output_type": "stream",
     "text": [
      "['TSLA', 'ZM']\n"
     ]
    }
   ],
   "source": [
    "stocks = [[\"SAP\", 106, -3.0], [\"AAPL\", 165, 1.25], [\"TSLA\", 860, 54.2], [\"ORCL\", 76, -0.25], [\"ZM\", 114, 6.2]]\n",
    "\n",
    "sell_list = []\n",
    "\n",
    "for stock in stocks:\n",
    "    if stock[2] > 5:\n",
    "        sell_list.append(stock[0])\n",
    "\n",
    "print(sell_list)"
   ]
  },
  {
   "cell_type": "code",
   "execution_count": 28,
   "metadata": {},
   "outputs": [
    {
     "name": "stderr",
     "output_type": "stream",
     "text": [
      "<>:1: SyntaxWarning: list indices must be integers or slices, not tuple; perhaps you missed a comma?\n",
      "<>:1: SyntaxWarning: list indices must be integers or slices, not tuple; perhaps you missed a comma?\n",
      "C:\\Users\\nmano\\AppData\\Local\\Temp\\ipykernel_22636\\3351769853.py:1: SyntaxWarning: list indices must be integers or slices, not tuple; perhaps you missed a comma?\n",
      "  students = [[\"Manoj\", \"reg_001\", 90], [\"Asha\", \"reg_002\", 92], [\"Christian\",\"reg_003\", 35][\"Steve\",\"reg_004\",66]]\n",
      "C:\\Users\\nmano\\AppData\\Local\\Temp\\ipykernel_22636\\3351769853.py:1: SyntaxWarning: list indices must be integers or slices, not tuple; perhaps you missed a comma?\n",
      "  students = [[\"Manoj\", \"reg_001\", 90], [\"Asha\", \"reg_002\", 92], [\"Christian\",\"reg_003\", 35][\"Steve\",\"reg_004\",66]]\n",
      "C:\\Users\\nmano\\AppData\\Local\\Temp\\ipykernel_22636\\3351769853.py:1: SyntaxWarning: list indices must be integers or slices, not tuple; perhaps you missed a comma?\n",
      "  students = [[\"Manoj\", \"reg_001\", 90], [\"Asha\", \"reg_002\", 92], [\"Christian\",\"reg_003\", 35][\"Steve\",\"reg_004\",66]]\n"
     ]
    },
    {
     "ename": "TypeError",
     "evalue": "list indices must be integers or slices, not tuple",
     "output_type": "error",
     "traceback": [
      "\u001b[1;31m---------------------------------------------------------------------------\u001b[0m",
      "\u001b[1;31mTypeError\u001b[0m                                 Traceback (most recent call last)",
      "\u001b[1;32mc:\\Manoj\\Python\\OpenSAP-Python\\Week2\\Iteration.ipynb Cell 5'\u001b[0m in \u001b[0;36m<cell line: 1>\u001b[1;34m()\u001b[0m\n\u001b[1;32m----> <a href='vscode-notebook-cell:/c%3A/Manoj/Python/OpenSAP-Python/Week2/Iteration.ipynb#ch0000004?line=0'>1</a>\u001b[0m students \u001b[39m=\u001b[39m [[\u001b[39m\"\u001b[39m\u001b[39mManoj\u001b[39m\u001b[39m\"\u001b[39m, \u001b[39m\"\u001b[39m\u001b[39mreg_001\u001b[39m\u001b[39m\"\u001b[39m, \u001b[39m90\u001b[39m], [\u001b[39m\"\u001b[39m\u001b[39mAsha\u001b[39m\u001b[39m\"\u001b[39m, \u001b[39m\"\u001b[39m\u001b[39mreg_002\u001b[39m\u001b[39m\"\u001b[39m, \u001b[39m92\u001b[39m], [\u001b[39m\"\u001b[39;49m\u001b[39mChristian\u001b[39;49m\u001b[39m\"\u001b[39;49m,\u001b[39m\"\u001b[39;49m\u001b[39mreg_003\u001b[39;49m\u001b[39m\"\u001b[39;49m, \u001b[39m35\u001b[39;49m][\u001b[39m\"\u001b[39;49m\u001b[39mSteve\u001b[39;49m\u001b[39m\"\u001b[39;49m,\u001b[39m\"\u001b[39;49m\u001b[39mreg_004\u001b[39;49m\u001b[39m\"\u001b[39;49m,\u001b[39m66\u001b[39;49m]]\n\u001b[0;32m      <a href='vscode-notebook-cell:/c%3A/Manoj/Python/OpenSAP-Python/Week2/Iteration.ipynb#ch0000004?line=2'>3</a>\u001b[0m marks_list \u001b[39m=\u001b[39m []\n\u001b[0;32m      <a href='vscode-notebook-cell:/c%3A/Manoj/Python/OpenSAP-Python/Week2/Iteration.ipynb#ch0000004?line=4'>5</a>\u001b[0m \u001b[39mfor\u001b[39;00m student \u001b[39min\u001b[39;00m students:\n",
      "\u001b[1;31mTypeError\u001b[0m: list indices must be integers or slices, not tuple"
     ]
    }
   ],
   "source": [
    "students = [[\"Manoj\", \"reg_001\", 90], [\"Asha\", \"reg_002\", 92], [\"Christian\",\"reg_003\", 35],[\"Steve\",\"reg_004\",66]]\n",
    "\n",
    "marks_list = []\n",
    "\n",
    "for student in students:\n",
    "    if student[2] > 80:\n",
    "        marks_list.append(student[[0][1]])\n",
    "print(marks_list)"
   ]
  },
  {
   "cell_type": "code",
   "execution_count": null,
   "metadata": {},
   "outputs": [],
   "source": []
  }
 ],
 "metadata": {
  "interpreter": {
   "hash": "70413a21d567e4aa0e74a562a22b8268ef992bac9b7ed1aefca5893fc26ee806"
  },
  "kernelspec": {
   "display_name": "Python 3.10.4 64-bit",
   "language": "python",
   "name": "python3"
  },
  "language_info": {
   "codemirror_mode": {
    "name": "ipython",
    "version": 3
   },
   "file_extension": ".py",
   "mimetype": "text/x-python",
   "name": "python",
   "nbconvert_exporter": "python",
   "pygments_lexer": "ipython3",
   "version": "3.10.4"
  },
  "orig_nbformat": 4
 },
 "nbformat": 4,
 "nbformat_minor": 2
}
