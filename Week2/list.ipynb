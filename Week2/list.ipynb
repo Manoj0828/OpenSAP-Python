{
 "cells": [
  {
   "cell_type": "code",
   "execution_count": 2,
   "metadata": {},
   "outputs": [
    {
     "name": "stdout",
     "output_type": "stream",
     "text": [
      "[1, 3, 5, True, -23, 'abc', 3.23]\n"
     ]
    }
   ],
   "source": [
    "my_str_list = [\"hello\", \"Welcome to\", \"Python\"]\n",
    "my_int_list = [0,1,1,2,3,4,5]\n",
    "my_float_list = [3.14, -6.63e-34]\n",
    "my_boolean_list = [True, False, False, True]\n",
    "my_mixed_list = [1,3,5,True,-23,\"abc\",3.23]\n",
    "\n",
    "print(my_mixed_list)"
   ]
  },
  {
   "cell_type": "code",
   "execution_count": 3,
   "metadata": {},
   "outputs": [
    {
     "name": "stdout",
     "output_type": "stream",
     "text": [
      "[1, 2, 3, 4, 5, 6]\n",
      "[1, 2, 3, 1, 2, 3, 1, 2, 3]\n"
     ]
    }
   ],
   "source": [
    "first_list = [1,2,3]\n",
    "second_list = [4,5,6]\n",
    "\n",
    "new_list = first_list + second_list\n",
    "print(new_list)\n",
    "\n",
    "print(3*first_list)"
   ]
  },
  {
   "cell_type": "code",
   "execution_count": 7,
   "metadata": {},
   "outputs": [
    {
     "name": "stdout",
     "output_type": "stream",
     "text": [
      "The list does not contain the number 4\n"
     ]
    }
   ],
   "source": [
    "#prime numbers\n",
    "prime_numbers = [2,3,5,7,11,13,17,19,23,29,31,37,41,43,47]\n",
    "my_number = int(input(\"Please enter a number\"))\n",
    "\n",
    "if my_number in prime_numbers:\n",
    "    print(\"The list contains the number\", my_number)\n",
    "else:\n",
    "    print(\"The list does not contain the number\", my_number)"
   ]
  },
  {
   "cell_type": "code",
   "execution_count": 10,
   "metadata": {},
   "outputs": [
    {
     "name": "stdout",
     "output_type": "stream",
     "text": [
      "[1, 3, 5, 1]\n"
     ]
    }
   ],
   "source": [
    "list1 = [1,3,5]\n",
    "x = 1\n",
    "if x in [1,3,5]:\n",
    "    list1 += [x]\n",
    "    print(list1)"
   ]
  },
  {
   "cell_type": "code",
   "execution_count": null,
   "metadata": {},
   "outputs": [],
   "source": []
  }
 ],
 "metadata": {
  "interpreter": {
   "hash": "70413a21d567e4aa0e74a562a22b8268ef992bac9b7ed1aefca5893fc26ee806"
  },
  "kernelspec": {
   "display_name": "Python 3.10.4 64-bit",
   "language": "python",
   "name": "python3"
  },
  "language_info": {
   "codemirror_mode": {
    "name": "ipython",
    "version": 3
   },
   "file_extension": ".py",
   "mimetype": "text/x-python",
   "name": "python",
   "nbconvert_exporter": "python",
   "pygments_lexer": "ipython3",
   "version": "3.10.4"
  },
  "orig_nbformat": 4
 },
 "nbformat": 4,
 "nbformat_minor": 2
}
