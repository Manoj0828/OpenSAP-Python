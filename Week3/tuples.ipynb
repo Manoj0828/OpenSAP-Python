{
 "cells": [
  {
   "cell_type": "code",
   "execution_count": 6,
   "metadata": {},
   "outputs": [
    {
     "name": "stdout",
     "output_type": "stream",
     "text": [
      "(360100, 'kasavanahalli', 'sarjapura main road', 'bangalore')\n",
      "('Manoj', 12345, 'Python Programming', 'manoj@gmail.com', (360100, 'kasavanahalli', 'sarjapura main road', 'bangalore'))\n",
      "(1234, 'Contain lists inside a tuple', [1, 2, 3, 4, 5], ['a', 'b', 'c', 'd'], 'end')\n"
     ]
    }
   ],
   "source": [
    "adress = (360100,\"kasavanahalli\",\"sarjapura main road\",\"bangalore\")\n",
    "print(adress)\n",
    "student = (\"Manoj\",12345,\"Python Programming\",\"manoj@gmail.com\",adress)\n",
    "print(student)\n",
    "tupl1 = (1234,\"Contain lists inside a tuple\",[1,2,3,4,5],[\"a\",\"b\",\"c\",\"d\"],\"end\")\n",
    "print(tupl1)"
   ]
  },
  {
   "cell_type": "code",
   "execution_count": 58,
   "metadata": {},
   "outputs": [
    {
     "name": "stdout",
     "output_type": "stream",
     "text": [
      "(1, 2, 'a', [1, 2, 3])\n"
     ]
    }
   ],
   "source": [
    "tup = (1,2,\"a\",[1,2,3])\n",
    "print(tup[2])\n",
    "\n",
    "c = tup[2]\n",
    "print(c)\n",
    "\n",
    "#tup[2] = \"b\" #can't modify the value of an element inside a tuple"
   ]
  },
  {
   "cell_type": "code",
   "execution_count": 12,
   "metadata": {},
   "outputs": [
    {
     "name": "stdout",
     "output_type": "stream",
     "text": [
      "(1, 2, 3)\n",
      "('a', 'b', 'c', 'd')\n"
     ]
    }
   ],
   "source": [
    "newtup = (1,2,3)\n",
    "print(newtup)\n",
    "\n",
    "#new tuple can be created with more element, but can't modify the existing elements\n",
    "newtup = (\"a\",\"b\",\"c\",\"d\") \n",
    "print(newtup)"
   ]
  },
  {
   "cell_type": "code",
   "execution_count": 15,
   "metadata": {},
   "outputs": [
    {
     "name": "stdout",
     "output_type": "stream",
     "text": [
      "('manoj', 'narayana', '324', '26')\n"
     ]
    }
   ],
   "source": [
    "name = input(\"Enter your name \")\n",
    "last_name = input(\"Enter your last name \")\n",
    "mobile = input(\"Enter mobile number\")\n",
    "age = input(\"Enter your Age(integer) \")\n",
    "\n",
    "employe = (name, last_name, mobile, age)\n",
    "print(employe)"
   ]
  },
  {
   "cell_type": "code",
   "execution_count": 22,
   "metadata": {},
   "outputs": [
    {
     "name": "stdout",
     "output_type": "stream",
     "text": [
      "sarjapura main road\n",
      "python for begginers\n"
     ]
    }
   ],
   "source": [
    "adress = (360100,\"kasavanahalli\",\"sarjapura main road\",\"bangalore\")\n",
    "\n",
    "student = (\n",
    "    \"peter\",\n",
    "    \"parker\",\n",
    "    12345,\n",
    "    \"python for begginers\",\n",
    "    \"manoj@gmail.com\",\n",
    "    adress\n",
    ")\n",
    "\n",
    "print(student[5][2])\n",
    "print(student[-3])"
   ]
  },
  {
   "cell_type": "code",
   "execution_count": 44,
   "metadata": {},
   "outputs": [
    {
     "name": "stdout",
     "output_type": "stream",
     "text": [
      "('trois', 'four')\n",
      "6\n",
      "1\n",
      "4\n"
     ]
    }
   ],
   "source": [
    "numbers = (1,2,\"trois\",\"four\",\"V\",6)\n",
    "\n",
    "print(numbers[2:4])\n",
    "print(len(numbers))\n",
    "print(numbers.count(1))\n",
    "print(numbers.index(\"V\"))"
   ]
  },
  {
   "cell_type": "code",
   "execution_count": 45,
   "metadata": {},
   "outputs": [
    {
     "name": "stdout",
     "output_type": "stream",
     "text": [
      "360100\n",
      "kasavanahalli\n",
      "sarjapura main road\n",
      "bangalore\n"
     ]
    }
   ],
   "source": [
    "address = (360100,\"kasavanahalli\",\"sarjapura main road\",\"bangalore\")\n",
    "\n",
    "for a in address:\n",
    "    print(a)"
   ]
  },
  {
   "cell_type": "code",
   "execution_count": 53,
   "metadata": {},
   "outputs": [
    {
     "name": "stdout",
     "output_type": "stream",
     "text": [
      "This is a tupple, list convereted into tupple (1, 2, 3, 'a', 4.5)\n",
      "[1, 2, 3, 'a', 4.5]\n"
     ]
    }
   ],
   "source": [
    "l = [1,2,3,\"a\",4.5]\n",
    "tupp = tuple(l)\n",
    "print(\"This is a tupple, list convereted into tupple\",tupp)\n",
    "\n",
    "l = list(tupp)\n",
    "print(l)"
   ]
  },
  {
   "cell_type": "code",
   "execution_count": 61,
   "metadata": {},
   "outputs": [
    {
     "name": "stdout",
     "output_type": "stream",
     "text": [
      "('Harry', 'Potter', 'BCA')\n"
     ]
    }
   ],
   "source": [
    "name = input(\"Please enter the given name of the student:\")\n",
    "surname = input(\"Please enter the surname of the student:\")\n",
    "field = input(\"Please enter the filed of study of the student:\")\n",
    "\n",
    "top = (name, surname, field)\n",
    "print(top)"
   ]
  },
  {
   "cell_type": "code",
   "execution_count": null,
   "metadata": {},
   "outputs": [],
   "source": []
  }
 ],
 "metadata": {
  "interpreter": {
   "hash": "70413a21d567e4aa0e74a562a22b8268ef992bac9b7ed1aefca5893fc26ee806"
  },
  "kernelspec": {
   "display_name": "Python 3.10.4 64-bit",
   "language": "python",
   "name": "python3"
  },
  "language_info": {
   "codemirror_mode": {
    "name": "ipython",
    "version": 3
   },
   "file_extension": ".py",
   "mimetype": "text/x-python",
   "name": "python",
   "nbconvert_exporter": "python",
   "pygments_lexer": "ipython3",
   "version": "3.10.4"
  },
  "orig_nbformat": 4
 },
 "nbformat": 4,
 "nbformat_minor": 2
}
