{
 "cells": [
  {
   "cell_type": "code",
   "execution_count": 6,
   "metadata": {},
   "outputs": [
    {
     "name": "stdout",
     "output_type": "stream",
     "text": [
      "{'Manoj': 9902532558, 'Appa': 8095730007, 'Amma': 123456789}\n",
      "9902532558\n"
     ]
    }
   ],
   "source": [
    "phonebook = {\n",
    "    \"Manoj\" : 9902532558,\n",
    "    \"Appa\" : 8095730007,\n",
    "    \"Amma\" : 123456789,\n",
    "}\n",
    "print(phonebook)\n",
    "\n",
    "print(phonebook[\"Manoj\"]) #getting number with the key value 'Manoj'\n",
    "\n",
    "# print(phonebook[2]) cant access the dictionary with the index value"
   ]
  },
  {
   "cell_type": "code",
   "execution_count": 11,
   "metadata": {},
   "outputs": [
    {
     "name": "stdout",
     "output_type": "stream",
     "text": [
      "{'Manoj': 9902532558, 'Appa': 8095730007, 'Amma': 123456789}\n",
      "{'Manoj': 9902532558, 'Appa': 8095730007, 'Amma': 123456789, 'Manja': 33452245}\n",
      "{'Manoj': 9902532558, 'Appa': 8095730007, 'Amma': 123456789, 'Manja': 987654321}\n"
     ]
    }
   ],
   "source": [
    "phonebook = {\n",
    "    \"Manoj\" : 9902532558,\n",
    "    \"Appa\" : 8095730007,\n",
    "    \"Amma\" : 123456789,\n",
    "}\n",
    "print(phonebook)\n",
    "phonebook[\"Manja\"] = 33452245 #adding new element to the dictionary\n",
    "print(phonebook)\n",
    "phonebook[\"Manja\"]\n",
    "phonebook[\"Manja\"] = 987654321 #replacing the vlaue of existing element\n",
    "print(phonebook)\n"
   ]
  },
  {
   "cell_type": "code",
   "execution_count": 18,
   "metadata": {},
   "outputs": [
    {
     "name": "stdout",
     "output_type": "stream",
     "text": [
      "tupple can be a key {('manoj', 'narayana'): 123456}\n"
     ]
    },
    {
     "ename": "TypeError",
     "evalue": "unhashable type: 'list'",
     "output_type": "error",
     "traceback": [
      "\u001b[1;31m---------------------------------------------------------------------------\u001b[0m",
      "\u001b[1;31mTypeError\u001b[0m                                 Traceback (most recent call last)",
      "\u001b[1;32mc:\\Manoj\\Python\\OpenSAP-Python\\Week3\\dictionaries.ipynb Cell 3'\u001b[0m in \u001b[0;36m<cell line: 4>\u001b[1;34m()\u001b[0m\n\u001b[0;32m      <a href='vscode-notebook-cell:/c%3A/Manoj/Python/OpenSAP-Python/Week3/dictionaries.ipynb#ch0000002?line=0'>1</a>\u001b[0m new_phone_book \u001b[39m=\u001b[39m {(\u001b[39m\"\u001b[39m\u001b[39mmanoj\u001b[39m\u001b[39m\"\u001b[39m,\u001b[39m\"\u001b[39m\u001b[39mnarayana\u001b[39m\u001b[39m\"\u001b[39m):\u001b[39m123456\u001b[39m}\n\u001b[0;32m      <a href='vscode-notebook-cell:/c%3A/Manoj/Python/OpenSAP-Python/Week3/dictionaries.ipynb#ch0000002?line=1'>2</a>\u001b[0m \u001b[39mprint\u001b[39m(\u001b[39m\"\u001b[39m\u001b[39mtupple can be a key\u001b[39m\u001b[39m\"\u001b[39m, new_phone_book) \u001b[39m#since tupple is inmutable, it be used as a key in dictionary\u001b[39;00m\n\u001b[1;32m----> <a href='vscode-notebook-cell:/c%3A/Manoj/Python/OpenSAP-Python/Week3/dictionaries.ipynb#ch0000002?line=3'>4</a>\u001b[0m new_phone_book \u001b[39m=\u001b[39m {[\u001b[39m\"\u001b[39m\u001b[39mManoj\u001b[39m\u001b[39m\"\u001b[39m,\u001b[39m\"\u001b[39m\u001b[39mNarayana\u001b[39m\u001b[39m\"\u001b[39m]: \u001b[39m1234555\u001b[39m}\n\u001b[0;32m      <a href='vscode-notebook-cell:/c%3A/Manoj/Python/OpenSAP-Python/Week3/dictionaries.ipynb#ch0000002?line=4'>5</a>\u001b[0m \u001b[39mprint\u001b[39m(\u001b[39m\"\u001b[39m\u001b[39mList can not be used as a key\u001b[39m\u001b[39m\"\u001b[39m, new_phone_book)\n",
      "\u001b[1;31mTypeError\u001b[0m: unhashable type: 'list'"
     ]
    }
   ],
   "source": [
    "new_phone_book = {(\"manoj\",\"narayana\"):123456}\n",
    "print(\"tupple can be a key\", new_phone_book) #since tupple is inmutable, it be used as a key in dictionary\n",
    "\n",
    "new_phone_book = {[\"Manoj\",\"Narayana\"]: 1234555}\n",
    "print(\"List can not be used as a key\", new_phone_book) #list is mutable, it can't be used as a key in dictionary\n"
   ]
  },
  {
   "cell_type": "code",
   "execution_count": 20,
   "metadata": {},
   "outputs": [
    {
     "name": "stdout",
     "output_type": "stream",
     "text": [
      "{'Manoj': 9902532558, 'Appa': 8095730007}\n"
     ]
    }
   ],
   "source": [
    "nw_phone_book = {\n",
    "    \"Manoj\" : 9902532558,\n",
    "    \"Appa\" : 8095730007,\n",
    "    \"Amma\" : 123456789,\n",
    "}\n",
    "\n",
    "del nw_phone_book[\"Amma\"] #deleting an element from the dictionary\n",
    "print(nw_phone_book)"
   ]
  },
  {
   "cell_type": "code",
   "execution_count": 21,
   "metadata": {},
   "outputs": [
    {
     "name": "stdout",
     "output_type": "stream",
     "text": [
      "Manoj 9902532558\n",
      "Appa 8095730007\n",
      "Amma 123456789\n"
     ]
    }
   ],
   "source": [
    "nw_phone_book = {\n",
    "    \"Manoj\" : 9902532558,\n",
    "    \"Appa\" : 8095730007,\n",
    "    \"Amma\" : 123456789,\n",
    "}\n",
    "\n",
    "for name in nw_phone_book:\n",
    "    print(name, nw_phone_book[name])"
   ]
  },
  {
   "cell_type": "code",
   "execution_count": 33,
   "metadata": {},
   "outputs": [
    {
     "name": "stdout",
     "output_type": "stream",
     "text": [
      "3\n",
      "dict_keys(['Manoj', 'Appa', 'Amma'])\n",
      "list view of keys ['Manoj', 'Appa', 'Amma']\n",
      "[9902532558, 8095730007, 123456789]\n",
      "dict_items([('Manoj', 9902532558), ('Appa', 8095730007), ('Amma', 123456789)])\n"
     ]
    }
   ],
   "source": [
    "nw_phone_book = {\n",
    "    \"Manoj\" : 9902532558,\n",
    "    \"Appa\" : 8095730007,\n",
    "    \"Amma\" : 123456789,\n",
    "}\n",
    "\n",
    "print(len(nw_phone_book))\n",
    "print(nw_phone_book.keys())\n",
    "print(\"list view of keys: \",list(nw_phone_book.keys()))\n",
    "\n",
    "print(list(nw_phone_book.values()))\n",
    "print(nw_phone_book.items())"
   ]
  },
  {
   "cell_type": "code",
   "execution_count": 40,
   "metadata": {},
   "outputs": [
    {
     "name": "stdout",
     "output_type": "stream",
     "text": [
      "{'name': 'Manoj', 'lastname': 'Narayana', 'subject': 'music', 'musician': True, 'instruments': ['bass', 'guitar', 'piano'], 'bands': ['Beatles', 'Wings']}\n",
      "Manoj\n",
      "music\n"
     ]
    }
   ],
   "source": [
    "student = {\n",
    "    \"name\" : \"Manoj\",\n",
    "    \"lastname\" : \"Narayana\",\n",
    "    \"subject\" : \"music\",\n",
    "    \"musician\" : True,\n",
    "    \"instruments\" : [\"bass\",\"guitar\",\"piano\"],\n",
    "    \"bands\" : [\"Beatles\",\"Wings\"],\n",
    "}\n",
    "\n",
    "print(student)\n",
    "print(student[\"name\"])\n",
    "print(student[\"subject\"])"
   ]
  },
  {
   "cell_type": "code",
   "execution_count": 45,
   "metadata": {},
   "outputs": [
    {
     "name": "stdout",
     "output_type": "stream",
     "text": [
      "{'red': 'rot', 'green': 'grun', 'blue': 'blau', 'yellow': 'gelb', 'Black': 'Bilack'}\n"
     ]
    }
   ],
   "source": [
    "colors = {\n",
    "    \"red\" : \"rot\",\n",
    "    \"green\" : \"grun\",\n",
    "    \"blue\" : \"blau\",\n",
    "    \"yellow\" : \"gelb\"\n",
    "}\n",
    "\n",
    "new_color = input(\"Enter new English color: \")\n",
    "germ_name = input(\"German name of: \")\n",
    "\n",
    "colors[new_color] = germ_name\n",
    "print(colors)"
   ]
  },
  {
   "cell_type": "code",
   "execution_count": 55,
   "metadata": {},
   "outputs": [
    {
     "name": "stdout",
     "output_type": "stream",
     "text": [
      "The german word of red is rot\n"
     ]
    }
   ],
   "source": [
    "colors = {\n",
    "    \"red\" : \"rot\",\n",
    "    \"green\" : \"grun\",\n",
    "    \"blue\" : \"blau\",\n",
    "    \"yellow\" : \"gelb\"\n",
    "}\n",
    "\n",
    "english_color = input(\"Which color Needs to be translated?\")\n",
    "print(\"The german word of\", english_color, \"is\", colors[english_color])\n"
   ]
  },
  {
   "cell_type": "code",
   "execution_count": 80,
   "metadata": {},
   "outputs": [
    {
     "name": "stdout",
     "output_type": "stream",
     "text": [
      "🐍 is a 😎 language\n"
     ]
    }
   ],
   "source": [
    "emojis = {\n",
    "\"happy\": \"😃\",\n",
    "\"heart\": \"😍\",\n",
    "\"rotfl\": \"🤣\",\n",
    "\"smile\": \"😊\",\n",
    "\"crying\": \"😭\",\n",
    "\"kiss\": \"😘\",\n",
    "\"clap\": \"👏\",\n",
    "\"grin\": \"😁\",\n",
    "\"fire\": \"🔥\",\n",
    "\"broken\": \"💔\",\n",
    "\"think\": \"🤔\",\n",
    "\"excited\": \"🤩\",\n",
    "\"boring\": \"🙄\",\n",
    "\"winking\": \"😉\",\n",
    "\"ok\": \"👌\",\n",
    "\"hug\": \"🤗\",\n",
    "\"cool\": \"😎\",\n",
    "\"angry\": \"😠\",\n",
    "\"python\": \"🐍\"\n",
    "}\n",
    "sentence = input(\"Please enter a sentence:\")\n",
    "\n",
    "words = sentence.split()\n",
    "\n",
    "output = []\n",
    "for word in words:\n",
    "    if word in emojis:\n",
    "        output.append(emojis[word])\n",
    "    else:\n",
    "        output.append(word)\n",
    "print(\" \".join(output))"
   ]
  },
  {
   "cell_type": "markdown",
   "metadata": {},
   "source": []
  },
  {
   "cell_type": "markdown",
   "metadata": {},
   "source": []
  }
 ],
 "metadata": {
  "interpreter": {
   "hash": "70413a21d567e4aa0e74a562a22b8268ef992bac9b7ed1aefca5893fc26ee806"
  },
  "kernelspec": {
   "display_name": "Python 3.10.4 64-bit",
   "language": "python",
   "name": "python3"
  },
  "language_info": {
   "codemirror_mode": {
    "name": "ipython",
    "version": 3
   },
   "file_extension": ".py",
   "mimetype": "text/x-python",
   "name": "python",
   "nbconvert_exporter": "python",
   "pygments_lexer": "ipython3",
   "version": "3.10.4"
  },
  "orig_nbformat": 4
 },
 "nbformat": 4,
 "nbformat_minor": 2
}
